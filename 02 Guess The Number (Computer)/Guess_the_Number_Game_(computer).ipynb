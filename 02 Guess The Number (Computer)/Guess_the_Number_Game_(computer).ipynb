{
  "cells": [
    {
      "cell_type": "code",
      "execution_count": null,
      "metadata": {
        "colab": {
          "base_uri": "https://localhost:8080/"
        },
        "id": "gS-SqvqviHP6",
        "outputId": "852c06e9-7995-4f0a-81cb-f2d4e889338d"
      },
      "outputs": [],
      "source": [
        "import random\n",
        "\n",
        "# Generate A Random Number Between 1-3\n",
        "secret_num = random.randint(1,3)\n",
        "\n",
        "# Run A While Loop\n",
        "while True:\n",
        "  guess_num =int(input(\"Guess the number between 1-3? \"))  #Guess Your Number\n",
        "  #IF Statement Guess Number is Equal To Random Number\n",
        "  if guess_num == secret_num:\n",
        "    print(\"You guessed the right number! 🎉\")   # Print This Message\n",
        "    break     #If guess_number = secret number stop the loop\n",
        "  else:\n",
        "    print(\"Wrong guess! Try again.\")"
      ]
    }
  ],
  "metadata": {
    "colab": {
      "provenance": []
    },
    "kernelspec": {
      "display_name": "Python 3",
      "name": "python3"
    },
    "language_info": {
      "codemirror_mode": {
        "name": "ipython",
        "version": 3
      },
      "file_extension": ".py",
      "mimetype": "text/x-python",
      "name": "python",
      "nbconvert_exporter": "python",
      "pygments_lexer": "ipython3",
      "version": "3.12.9"
    }
  },
  "nbformat": 4,
  "nbformat_minor": 0
}
