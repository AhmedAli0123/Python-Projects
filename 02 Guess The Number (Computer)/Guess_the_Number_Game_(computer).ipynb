{
  "nbformat": 4,
  "nbformat_minor": 0,
  "metadata": {
    "colab": {
      "provenance": []
    },
    "kernelspec": {
      "name": "python3",
      "display_name": "Python 3"
    },
    "language_info": {
      "name": "python"
    }
  },
  "cells": [
    {
      "cell_type": "code",
      "execution_count": 5,
      "metadata": {
        "id": "gS-SqvqviHP6",
        "colab": {
          "base_uri": "https://localhost:8080/"
        },
        "outputId": "f42ba9ab-0319-41e5-93fa-97e689bccb81"
      },
      "outputs": [
        {
          "output_type": "stream",
          "name": "stdout",
          "text": [
            "\n",
            "Guess the number between 1-10? 6\n",
            "Your guessed number is too high\n",
            "\n",
            "Guess the number between 1-10? 5\n",
            "Your guessed number is too high\n",
            "\n",
            "Guess the number between 1-10? 3\n",
            "\n",
            "You guessed the right number! 🎉\n"
          ]
        }
      ],
      "source": [
        "import random\n",
        "\n",
        "# Generate A Random Number Between 1-3\n",
        "secret_num = random.randint(1,10)\n",
        "\n",
        "# Run A While Loop\n",
        "while True:\n",
        "  guess_num =int(input(\"\\nGuess the number between 1-10? \"))  #Guess Your Number\n",
        "\n",
        "  #IF Statement Guess Number is Equal To Random Number\n",
        "\n",
        "  if guess_num > secret_num:\n",
        "    print(\"Your guessed number is too high\")\n",
        "  elif guess_num < secret_num:\n",
        "    print(\"Your guessed number is too low\")\n",
        "  elif guess_num == secret_num:\n",
        "    print(\"\\nYou guessed the right number! 🎉\")   # Print This Message\n",
        "    break     #If guess_number = secret number stop the loop\n",
        "  else:\n",
        "    print(\"\\nWrong guess! Try again.\")"
      ]
    }
  ]
}