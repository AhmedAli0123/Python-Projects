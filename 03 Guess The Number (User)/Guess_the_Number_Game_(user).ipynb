{
  "nbformat": 4,
  "nbformat_minor": 0,
  "metadata": {
    "colab": {
      "provenance": []
    },
    "kernelspec": {
      "name": "python3",
      "display_name": "Python 3"
    },
    "language_info": {
      "name": "python"
    }
  },
  "cells": [
    {
      "cell_type": "code",
      "execution_count": 9,
      "metadata": {
        "id": "13gHFz0FxkmB",
        "colab": {
          "base_uri": "https://localhost:8080/"
        },
        "outputId": "99f1666a-117e-4a33-ea1d-359659879405"
      },
      "outputs": [
        {
          "output_type": "stream",
          "name": "stdout",
          "text": [
            "Think of a number between 1 and 10, and I will try to guess it!\n",
            "\n",
            "Is your number 6?\n",
            "\n",
            "      1. Too High\n",
            "      2. Too Low\n",
            "      3. Correct\n",
            "    1\n",
            "\n",
            "Is your number 5?\n",
            "\n",
            "      1. Too High\n",
            "      2. Too Low\n",
            "      3. Correct\n",
            "    1\n",
            "\n",
            "Is your number 4?\n",
            "\n",
            "      1. Too High\n",
            "      2. Too Low\n",
            "      3. Correct\n",
            "    3\n",
            "I guessed your number 4! in 3 attempts\n"
          ]
        }
      ],
      "source": [
        "low=1\n",
        "high=5\n",
        "attept=0\n",
        "\n",
        "print(\"Think of a number between 1 and 10, and I will try to guess it!\")\n",
        "\n",
        "while True:\n",
        "    guess = (low + high)\n",
        "    attept += 1\n",
        "    print(f\"\\nIs your number {guess}?\")\n",
        "\n",
        "    feedback = input(\"\"\"\n",
        "      1. Too High\n",
        "      2. Too Low\n",
        "      3. Correct\n",
        "    \"\"\").lower()\n",
        "\n",
        "\n",
        "    if (feedback == '1'):\n",
        "        high = guess - 2\n",
        "    elif (feedback == '2'):\n",
        "        low = guess + 1\n",
        "    elif (feedback == '3'):\n",
        "        print(f\"I guessed your number {guess}! in {attept} attempts\")\n",
        "        break\n",
        "    else:\n",
        "      print(\"Invalid input. Please enter '1', '2', or '3'.\")"
      ]
    }
  ]
}