{
  "cells": [
    {
      "cell_type": "code",
      "execution_count": null,
      "metadata": {
        "colab": {
          "base_uri": "https://localhost:8080/"
        },
        "id": "6Pv_DDnfCl3h",
        "outputId": "b3edfe79-3a5f-420c-add7-26bee4641276"
      },
      "outputs": [],
      "source": [
        "# Madlbs Python Projects\n",
        "\n",
        "\n",
        "name = input(\"Enter a name: \")   #Input For Name\n",
        "place = input(\"Enter a place: \") # Input For Pace\n",
        "adjective = input(\"Enter an adjective: \") # Input For Adjective\n",
        "verb = input(\"Enter an action verb: \") # Input For Verb\n",
        "food = input(\"Enter a type of food: \") #Input For Food\n",
        "\n",
        "\n",
        "# Story And Use F String\n",
        "story = f\"\"\"\n",
        "One day, {name} went to {place}.\n",
        "They were very {adjective} and decided to {verb}.\n",
        "After a while, they got hungry and ate some {food}.\n",
        "It was a great day!\n",
        "\"\"\"\n",
        "\n",
        "# Displaying the completed story\n",
        "print(\"\\nHere is your Mad Libs story:\\n\")\n",
        "\n",
        "# Print Story\n",
        "print(story)\n",
        "\n"
      ]
    }
  ],
  "metadata": {
    "colab": {
      "provenance": []
    },
    "kernelspec": {
      "display_name": "Python 3",
      "name": "python3"
    },
    "language_info": {
      "codemirror_mode": {
        "name": "ipython",
        "version": 3
      },
      "file_extension": ".py",
      "mimetype": "text/x-python",
      "name": "python",
      "nbconvert_exporter": "python",
      "pygments_lexer": "ipython3",
      "version": "3.12.9"
    }
  },
  "nbformat": 4,
  "nbformat_minor": 0
}
