{
  "nbformat": 4,
  "nbformat_minor": 0,
  "metadata": {
    "colab": {
      "provenance": []
    },
    "kernelspec": {
      "name": "python3",
      "display_name": "Python 3"
    },
    "language_info": {
      "name": "python"
    }
  },
  "cells": [
    {
      "cell_type": "code",
      "source": [
        "import random\n",
        "\n",
        "# List of words to choose from\n",
        "words = [\"apple\", \"banana\", \"cherry\", \"grape\", \"mango\"]\n",
        "\n",
        "# Select a random word\n",
        "word=random.choice(words)\n",
        "guessed_word=[\"_\"] *len(word)    # Create blanks\n",
        "attempts=9                       #Attempts\n",
        "guessed_letters=[]               # # To store guessed letters\n",
        "\n",
        "print(\"Start the game\")\n",
        "\n",
        "\n",
        "while attempts > 0 and \"_\" in guessed_word:\n",
        "    print(\"\\nWord:\", \" \".join(guessed_word))  # Show current word progress\n",
        "    print(f\"Attempts left: {attempts}\")\n",
        "    guess = input(\"Guess a letter: \").lower()\n",
        "\n",
        "    if guess in guessed_letters:\n",
        "        print(f\"You already guessed that letter! {guess} \")\n",
        "        continue\n",
        "    guessed_letters.append(guess)\n",
        "    if guess in word:\n",
        "        for i in range(len(word)):  # Reveal the guessed letter\n",
        "            if word[i] == guess:\n",
        "                guessed_word[i] = guess\n",
        "    else:\n",
        "        print(\"Wrong Guessed\")\n",
        "        attempts -= 1\n",
        "\n",
        "if \"_\" not in guessed_word:\n",
        "      print(\"\\nCongration You won the game\")\n",
        "else:\n",
        "      print(\"\\nYou lose the game\" , word)\n"
      ],
      "metadata": {
        "colab": {
          "base_uri": "https://localhost:8080/"
        },
        "id": "HYEnOHaXaStk",
        "outputId": "fbbbef1d-de0b-43d9-8da0-13ba6d0c34bb"
      },
      "execution_count": 42,
      "outputs": [
        {
          "output_type": "stream",
          "name": "stdout",
          "text": [
            "Start the game\n",
            "\n",
            "Word: _ _ _ _ _\n",
            "Attempts left: 9\n",
            "Guess a letter: a\n",
            "\n",
            "Word: a _ _ _ _\n",
            "Attempts left: 9\n",
            "Guess a letter: l\n",
            "\n",
            "Word: a _ _ l _\n",
            "Attempts left: 9\n",
            "Guess a letter: s\n",
            "Wrong Guessed\n",
            "\n",
            "Word: a _ _ l _\n",
            "Attempts left: 8\n",
            "Guess a letter: a\n",
            "You already guessed that letter! a \n",
            "\n",
            "Word: a _ _ l _\n",
            "Attempts left: 8\n",
            "Guess a letter: g\n",
            "Wrong Guessed\n",
            "\n",
            "Word: a _ _ l _\n",
            "Attempts left: 7\n",
            "Guess a letter: m\n",
            "Wrong Guessed\n",
            "\n",
            "Word: a _ _ l _\n",
            "Attempts left: 6\n",
            "Guess a letter: p\n",
            "\n",
            "Word: a p p l _\n",
            "Attempts left: 6\n",
            "Guess a letter: e\n",
            "Congration You won the game\n"
          ]
        }
      ]
    }
  ]
}