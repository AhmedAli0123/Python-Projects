{
  "nbformat": 4,
  "nbformat_minor": 0,
  "metadata": {
    "colab": {
      "provenance": []
    },
    "kernelspec": {
      "name": "python3",
      "display_name": "Python 3"
    },
    "language_info": {
      "name": "python"
    }
  },
  "cells": [
    {
      "cell_type": "code",
      "source": [
        "import streamlit as st\n",
        "\n",
        "# Title of the app\n",
        "st.title(\"BMI Calculator By Ahmed Ali\")\n",
        "\n",
        "# Input fields for weight and height (Height in cm)\n",
        "weight = st.number_input(\"Enter your weight (kg):\", min_value=1.0, step=0.1)\n",
        "height_cm = st.number_input(\"Enter your height (cm):\", min_value=10.0, step=0.1)\n",
        "\n",
        "# Calculate BMI when button is clicked\n",
        "if st.button(\"Calculate BMI\"):\n",
        "    if height_cm > 0:\n",
        "        height_m = height_cm / 100  # Convert cm to meters\n",
        "        bmi = weight / (height_m ** 2)\n",
        "        st.success(f\"Your BMI is: {bmi:.2f}\")\n",
        "\n",
        "        # Interpret BMI result\n",
        "        if bmi < 18.5:\n",
        "            st.info(\"You are underweight.\")\n",
        "        elif 18.5 <= bmi < 24.9:\n",
        "            st.success(\"You have a normal weight.\")\n",
        "        elif 25 <= bmi < 29.9:\n",
        "            st.warning(\"You are overweight.\")\n",
        "        else:\n",
        "            st.error(\"You are obese.\")\n",
        "    else:\n",
        "        st.error(\"Height must be greater than 0.\")\n"
      ],
      "metadata": {
        "id": "7XPJrYD5-YdW"
      },
      "execution_count": null,
      "outputs": []
    }
  ]
}