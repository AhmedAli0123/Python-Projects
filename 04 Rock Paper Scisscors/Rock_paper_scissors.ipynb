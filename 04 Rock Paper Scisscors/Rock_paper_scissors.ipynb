{
  "nbformat": 4,
  "nbformat_minor": 0,
  "metadata": {
    "colab": {
      "provenance": []
    },
    "kernelspec": {
      "name": "python3",
      "display_name": "Python 3"
    },
    "language_info": {
      "name": "python"
    }
  },
  "cells": [
    {
      "cell_type": "code",
      "source": [
        "import random\n",
        "\n",
        "choices= [\"rock\", \"paper\", \"scissors\"]\n",
        "\n",
        "your_choice= str(input(\"rock, paper, or scissors? \"))\n",
        "computer_choice= random.choice(choices)\n",
        "\n",
        "print(f\"\\nYour choice: {your_choice}\")\n",
        "print(f\"Computer's choice: {computer_choice}\")\n",
        "\n",
        "if (computer_choice == your_choice):\n",
        "  print(\"\\nMatch Tie\")\n",
        "elif (computer_choice ==\"scissors\" and your_choice ==\"rock\") or \\\n",
        "     (computer_choice ==\"paper\" and your_choice == \"scissors\") or \\\n",
        "     (computer_choice ==\"rock\" and your_choice == \"paper\"):\n",
        "  print(\"\\nYou win!\")\n",
        "else:\n",
        "  print(\"\\nYou lose the game, Computer win!\")"
      ],
      "metadata": {
        "colab": {
          "base_uri": "https://localhost:8080/"
        },
        "id": "eIaJ04BH0oqK",
        "outputId": "340a6aa4-14b2-4890-d55c-a0df6e2970e6"
      },
      "execution_count": 4,
      "outputs": [
        {
          "output_type": "stream",
          "name": "stdout",
          "text": [
            "rock, paper, or scissors? scissors\n",
            "\n",
            "Your choice: scissors\n",
            "Computer's choice: paper\n",
            "\n",
            "You win!\n"
          ]
        }
      ]
    }
  ]
}