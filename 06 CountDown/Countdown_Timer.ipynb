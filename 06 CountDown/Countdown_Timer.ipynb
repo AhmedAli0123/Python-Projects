{
  "nbformat": 4,
  "nbformat_minor": 0,
  "metadata": {
    "colab": {
      "provenance": []
    },
    "kernelspec": {
      "name": "python3",
      "display_name": "Python 3"
    },
    "language_info": {
      "name": "python"
    }
  },
  "cells": [
    {
      "cell_type": "code",
      "source": [
        "import time\n",
        "\n",
        "\n",
        "# Function For User Is enter another type of value\n",
        "def valid_input():\n",
        " while True:\n",
        "  try:\n",
        "    user_input=int(input(\"Enter the time in seconds: \"))\n",
        "    return user_input      # Return valid input\n",
        "  except:\n",
        "    print(\"Invalid input, please enter a number\") #Through this message\n",
        "\n",
        "\n",
        "def count_down(seconds):\n",
        "  while seconds > 0:\n",
        "    print(f\"Time left: {seconds} seconds\")\n",
        "    time.sleep(1)   #Pause the execution for 1 second\n",
        "    seconds -= 1    #Minus the 1 second\n",
        "  print(\"Time's up!\")\n",
        "# Get valid user input\n",
        "user_input = valid_input()\n",
        "count_down(user_input)"
      ],
      "metadata": {
        "colab": {
          "base_uri": "https://localhost:8080/"
        },
        "id": "YoVYYpGNn3ij",
        "outputId": "7ce821e8-f23f-49a0-fd49-bb7b47e69804"
      },
      "execution_count": 2,
      "outputs": [
        {
          "output_type": "stream",
          "name": "stdout",
          "text": [
            "Enter the time in seconds: ggg\n",
            "Invalid input, please enter a number\n",
            "Enter the time in seconds: 5\n",
            "Time left: 5 seconds\n",
            "Time left: 4 seconds\n",
            "Time left: 3 seconds\n",
            "Time left: 2 seconds\n",
            "Time left: 1 seconds\n",
            "Time's up!\n"
          ]
        }
      ]
    },
    {
      "cell_type": "markdown",
      "source": [],
      "metadata": {
        "id": "Eif0WyKMn5K-"
      }
    }
  ]
}